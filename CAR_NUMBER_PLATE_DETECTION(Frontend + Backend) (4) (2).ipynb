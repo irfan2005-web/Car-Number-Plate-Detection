{
 "cells": [
  {
   "cell_type": "code",
   "execution_count": 1,
   "id": "0445d3f1",
   "metadata": {},
   "outputs": [
    {
     "name": "stdout",
     "output_type": "stream",
     "text": [
      "Requirement already satisfied: opencv-contrib-python in c:\\users\\victus\\appdata\\local\\programs\\python\\python311\\lib\\site-packages (4.10.0.84)\n",
      "Requirement already satisfied: numpy>=1.21.2 in c:\\users\\victus\\appdata\\local\\programs\\python\\python311\\lib\\site-packages (from opencv-contrib-python) (2.0.0)\n",
      "Note: you may need to restart the kernel to use updated packages.\n"
     ]
    }
   ],
   "source": [
    "pip install opencv-contrib-python"
   ]
  },
  {
   "cell_type": "code",
   "execution_count": 2,
   "id": "7191c08b",
   "metadata": {},
   "outputs": [
    {
     "name": "stdout",
     "output_type": "stream",
     "text": [
      "Requirement already satisfied: imutils in c:\\users\\victus\\appdata\\local\\programs\\python\\python311\\lib\\site-packages (0.5.4)\n",
      "Note: you may need to restart the kernel to use updated packages.\n"
     ]
    }
   ],
   "source": [
    "pip install imutils"
   ]
  },
  {
   "cell_type": "code",
   "execution_count": 3,
   "id": "2a65aabd",
   "metadata": {},
   "outputs": [
    {
     "name": "stdout",
     "output_type": "stream",
     "text": [
      "Requirement already satisfied: pytesseract in c:\\users\\victus\\appdata\\local\\programs\\python\\python311\\lib\\site-packages (0.3.13)\n",
      "Requirement already satisfied: packaging>=21.3 in c:\\users\\victus\\appdata\\local\\programs\\python\\python311\\lib\\site-packages (from pytesseract) (24.1)\n",
      "Requirement already satisfied: Pillow>=8.0.0 in c:\\users\\victus\\appdata\\local\\programs\\python\\python311\\lib\\site-packages (from pytesseract) (10.3.0)\n",
      "Note: you may need to restart the kernel to use updated packages.\n"
     ]
    }
   ],
   "source": [
    "pip install pytesseract"
   ]
  },
  {
   "cell_type": "code",
   "execution_count": 4,
   "id": "43634801",
   "metadata": {},
   "outputs": [],
   "source": [
    "import cv2\n",
    "import imutils\n",
    "import pytesseract"
   ]
  },
  {
   "cell_type": "markdown",
   "id": "4391fa3b",
   "metadata": {},
   "source": [
    "# BACKEND CODE"
   ]
  },
  {
   "cell_type": "code",
   "execution_count": 11,
   "id": "cf6c675c",
   "metadata": {},
   "outputs": [
    {
     "name": "stdout",
     "output_type": "stream",
     "text": [
      "Number plate is: CGO4MF 2250)\n",
      "\n"
     ]
    }
   ],
   "source": [
    "\n",
    "import cv2\n",
    "import imutils\n",
    "import pytesseract\n",
    "\n",
    "# Set the path to the Tesseract OCR engine executable\n",
    "pytesseract.pytesseract.tesseract_cmd = 'C:\\\\Program Files\\\\Tesseract-OCR\\\\tesseract'\n",
    "\n",
    "# Read the image\n",
    "image = cv2.imread('OIP (2).jpg')\n",
    "#Resize the image\n",
    "image = imutils.resize(image, width=300)\n",
    "\n",
    "# Convert the image to grayscale\n",
    "gray_image = cv2.cvtColor(image, cv2.COLOR_BGR2GRAY)\n",
    "\n",
    "# Apply bilateral filtering for noise reduction\n",
    "gray_image = cv2.bilateralFilter(gray_image, 11, 17, 17)\n",
    "\n",
    "# Perform edge detection using the Canny algorithm\n",
    "edged = cv2.Canny(gray_image, 30, 200)\n",
    "\n",
    "# Find contours in the edged image\n",
    "cnts, new = cv2.findContours(edged.copy(), cv2.RETR_LIST, cv2.CHAIN_APPROX_SIMPLE)\n",
    "\n",
    "# Sort contours by area and select the top 30\n",
    "cnts = sorted(cnts, key=cv2.contourArea, reverse=True)[:30]\n",
    "\n",
    "screenCnt = None\n",
    "i=7\n",
    "# Iterate over the contours\n",
    "for c in cnts:\n",
    "    perimeter = cv2.arcLength(c, True)\n",
    "    approx = cv2.approxPolyDP(c, 0.018 * perimeter, True)\n",
    "    if len(approx) == 4:\n",
    "        screenCnt = approx\n",
    "        x, y, w, h = cv2.boundingRect(c)\n",
    "        new_img = image[y:y + h, x:x + w]\n",
    "        cv2.imwrite('./' + str(i) + '.png', new_img)\n",
    "        break\n",
    "\n",
    "# Draw the detected license plate contour on the image\n",
    "if screenCnt is not None:\n",
    "    cv2.drawContours(image, [screenCnt], -1, (0, 255, 0), 3)\n",
    "    cv2.imshow(\"image with detected license plate\", image)\n",
    "    cv2.waitKey(0)\n",
    "else:\n",
    "    print(\"No license plate contour found.\")\n",
    "\n",
    "# Perform OCR on the cropped license plate image\n",
    "Cropped_loc = './7.png'\n",
    "cv2.imshow(\"cropped\", cv2.imread(Cropped_loc))\n",
    "plate = pytesseract.image_to_string(Cropped_loc, lang='eng')\n",
    "print(\"Number plate is:\", plate)\n",
    "cv2.waitKey(0)\n",
    "cv2.destroyAllWindows()\n"
   ]
  },
  {
   "cell_type": "markdown",
   "id": "4cac60f8",
   "metadata": {},
   "source": [
    "# FINAL FRONTEND CODE"
   ]
  },
  {
   "cell_type": "code",
   "execution_count": null,
   "id": "4e5d692c",
   "metadata": {},
   "outputs": [
    {
     "name": "stdout",
     "output_type": "stream",
     "text": [
      "Number plate is: -CGOAMF 2250,\n",
      "\n"
     ]
    }
   ],
   "source": [
    "\n",
    "import cv2\n",
    "import imutils\n",
    "import pytesseract\n",
    "from tkinter import Tk, filedialog, Canvas, Button, Label, Toplevel\n",
    "from PIL import ImageTk, Image\n",
    "import numpy as np\n",
    "\n",
    "# Set the path to the Tesseract OCR engine executable\n",
    "pytesseract.pytesseract.tesseract_cmd = 'C:\\\\Program Files\\\\Tesseract-OCR\\\\tesseract.exe'\n",
    "\n",
    "root = Tk()\n",
    "root.geometry(\"500x400\")\n",
    "\n",
    "# My favorite color scheme\n",
    "bg_color = \"#6A5ACD\"  # Slate blue background\n",
    "button_upload_bg = \"#FF7F50\"  # Coral button background for upload\n",
    "button_analyze_bg = \"#008080\"  # Teal button background for analyze\n",
    "button_fg_color = \"#FFFFFF\"  # White text on buttons\n",
    "heading_fg_color = \"#98FF98\"  # Mint green heading text\n",
    "\n",
    "root.configure(bg=bg_color)  # Set the background color\n",
    "\n",
    "image_path = \"\"\n",
    "analyzed_image = None\n",
    "plate_text = \"\"\n",
    "\n",
    "# Create a heading label with mint green color\n",
    "heading_label = Label(root, text=\"License Plate Recognition\", font=(\"Helvetica\", 20), bg=bg_color, fg=heading_fg_color)\n",
    "heading_label.pack(pady=20)\n",
    "\n",
    "def process_image():\n",
    "    global image_path, analyzed_image, plate_text\n",
    "\n",
    "    if not image_path:\n",
    "        return\n",
    "\n",
    "    # Read the image\n",
    "    image = cv2.imread(image_path)\n",
    "    image = imutils.resize(image, width=400)\n",
    "\n",
    "    # Convert the image to grayscale\n",
    "    gray_image = cv2.cvtColor(image, cv2.COLOR_BGR2GRAY)\n",
    "\n",
    "    # Apply bilateral filtering for noise reduction\n",
    "    gray_image = cv2.bilateralFilter(gray_image, 11, 17, 17)\n",
    "\n",
    "    # Perform edge detection using the Canny algorithm\n",
    "    edged = cv2.Canny(gray_image, 30, 200)\n",
    "\n",
    "    # Find contours in the edged image\n",
    "    cnts, _ = cv2.findContours(edged.copy(), cv2.RETR_LIST, cv2.CHAIN_APPROX_SIMPLE)\n",
    "\n",
    "    # Sort contours by area and select the top 30\n",
    "    cnts = sorted(cnts, key=cv2.contourArea, reverse=True)[:30]\n",
    "\n",
    "    screenCnt = None\n",
    "\n",
    "    # Iterate over the contours to find a potential plate\n",
    "    for c in cnts:\n",
    "        perimeter = cv2.arcLength(c, True)\n",
    "        approx = cv2.approxPolyDP(c, 0.018 * perimeter, True)\n",
    "        if len(approx) == 4:\n",
    "            screenCnt = approx\n",
    "            x, y, w, h = cv2.boundingRect(c)\n",
    "            new_img = image[y:y + h, x:x + w]\n",
    "            cv2.imwrite('./7.png', new_img)\n",
    "            break\n",
    "\n",
    "    # Draw the detected license plate contour on the image\n",
    "    if screenCnt is not None:\n",
    "        cv2.drawContours(image, [screenCnt], -1, (0, 255, 0), 3)\n",
    "        plate_image = cv2.imread('./7.png')\n",
    "        plate_image = cv2.resize(plate_image, (image.shape[1], image.shape[0]))  # Resize plate_image to match image dimensions\n",
    "        analyzed_image = cv2.hconcat([image, plate_image])\n",
    "    else:\n",
    "        print(\"No license plate contour found.\")\n",
    "\n",
    "    # Perform OCR on the cropped license plate image\n",
    "    Cropped_loc = './7.png'\n",
    "    plate_text = pytesseract.image_to_string(Cropped_loc, lang='eng')\n",
    "    print(\"Number plate is:\", plate_text)\n",
    "\n",
    "    show_analyzed_image()\n",
    "\n",
    "def show_analyzed_image():\n",
    "    global analyzed_image, plate_text\n",
    "\n",
    "    if analyzed_image is None:\n",
    "        return\n",
    "\n",
    "    top = Toplevel()\n",
    "    top.geometry(\"500x400\")\n",
    "    top.configure(bg=bg_color)  # Set the background color\n",
    "\n",
    "    # Convert the analyzed image to PIL format\n",
    "    img = Image.fromarray(analyzed_image)\n",
    "    img = img.resize((400, 300))\n",
    "\n",
    "    # Create a PhotoImage from the PIL image\n",
    "    img_tk = ImageTk.PhotoImage(img)\n",
    "\n",
    "    # Display the analyzed image on the top-level window\n",
    "    label_img = Label(top, image=img_tk, bg=bg_color)\n",
    "    label_img.image = img_tk  # Keep a reference to avoid garbage collection\n",
    "    label_img.pack()\n",
    "\n",
    "    # Display the plate text below the analyzed image\n",
    "    label_plate = Label(top, text=\"Number Plate: \" + plate_text, bg=bg_color, fg=heading_fg_color)\n",
    "    label_plate.pack()\n",
    "\n",
    "def upload_image():\n",
    "    global image_path, analyzed_image, plate_text\n",
    "    image_path = filedialog.askopenfilename()\n",
    "    analyzed_image = None\n",
    "    plate_text = \"\"\n",
    "\n",
    "    # Show the selected image on the root window\n",
    "    img = Image.open(image_path)\n",
    "    img = img.resize((400, 300))\n",
    "    img_tk = ImageTk.PhotoImage(img)\n",
    "\n",
    "    canvas.create_image(250, 150, anchor=\"center\", image=img_tk)  # Center the image\n",
    "    canvas.image = img_tk  # Keep a reference to avoid garbage collection\n",
    "\n",
    "\n",
    "canvas = Canvas(root, width=500, height=400, bg=bg_color)\n",
    "canvas.pack()\n",
    "\n",
    "# Create the Upload Image button with coral\n",
    "upload_button = Button(root, text=\"Upload Image\", command=upload_image, bg=button_upload_bg, fg=button_fg_color)\n",
    "canvas.create_window(250, 200, window=upload_button)\n",
    "\n",
    "# Create the Analyze button with teal\n",
    "analyze_button = Button(root, text=\"Analyze\", command=process_image, bg=button_analyze_bg, fg=button_fg_color)\n",
    "canvas.create_window(250, 250, window=analyze_button)\n",
    "\n",
    "root.mainloop()\n",
    "\n",
    "\n",
    "\n",
    "    \n"
   ]
  },
  {
   "cell_type": "code",
   "execution_count": null,
   "id": "fe9a00a5-e821-417d-aa79-a93d8b82b398",
   "metadata": {},
   "outputs": [],
   "source": []
  },
  {
   "cell_type": "code",
   "execution_count": null,
   "id": "eea79de8-de22-4308-86cb-eab963574b17",
   "metadata": {},
   "outputs": [],
   "source": []
  }
 ],
 "metadata": {
  "kernelspec": {
   "display_name": "Python 3 (ipykernel)",
   "language": "python",
   "name": "python3"
  },
  "language_info": {
   "codemirror_mode": {
    "name": "ipython",
    "version": 3
   },
   "file_extension": ".py",
   "mimetype": "text/x-python",
   "name": "python",
   "nbconvert_exporter": "python",
   "pygments_lexer": "ipython3",
   "version": "3.11.9"
  }
 },
 "nbformat": 4,
 "nbformat_minor": 5
}
